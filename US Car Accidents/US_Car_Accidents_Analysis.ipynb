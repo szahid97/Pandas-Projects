{
 "cells": [
  {
   "cell_type": "code",
   "execution_count": 1,
   "id": "c69759ea",
   "metadata": {},
   "outputs": [],
   "source": [
    "#Us Accidents Exploratory Daya Analysis\n",
    "#Todo - talk about EDA\n",
    "#Todo - talk about the data set(Source, What it contains, How it will be usefull)\n",
    "    #Source - Kaggle\n",
    "    #What it contains- Information about accidents\n",
    "    #How it will be usefull - Can be usefull to prevent accidents\n",
    "    #This data does not contain data of New York"
   ]
  },
  {
   "cell_type": "code",
   "execution_count": null,
   "id": "3c13da23",
   "metadata": {},
   "outputs": [],
   "source": [
    "#Download dataset from kaggle using \"opendatasets\" library\n",
    "#Less than 11% of cities have reported more than 800 accidents\n",
    "#1023 cities has reported only 1 accident\n",
    "#highest number accident is reported in Maimi which is 1,86,917 appx 2.418% of total car accidents in USA\n",
    "#When it comes to highest number of accident in a state, California tops the list with 17,41,433 accidents which is 22.53% of total car accidents in USA\n",
    "#The number of accidents per city decreases exponentially\n",
    "#High percentage of accidents occurs between 6-10am and 1-5pm\n",
    "#Lowest numbers of accidents are reported on Weekends(probably because lower number of people travels on weekends as compared to weekdays)\n",
    "#On Weekdays the highest number of accident occurs between 7-8am and on weekends the highest number of accident occurs between 3-5pm \n",
    "#From the month of August accidents in US start rising and the highest accidents occurs in the month of December followed by January & November because of winter season\n",
    "#"
   ]
  },
  {
   "cell_type": "code",
   "execution_count": null,
   "id": "b9ae046c",
   "metadata": {
    "scrolled": true
   },
   "outputs": [],
   "source": [
    "pip install opendatasets"
   ]
  },
  {
   "cell_type": "code",
   "execution_count": null,
   "id": "00224158",
   "metadata": {
    "scrolled": true
   },
   "outputs": [],
   "source": [
    "import opendatasets as od\n",
    "download_url = 'https://www.kaggle.com/datasets/sobhanmoosavi/us-accidents'\n",
    "od.download(download_url)"
   ]
  },
  {
   "cell_type": "code",
   "execution_count": null,
   "id": "da489015",
   "metadata": {},
   "outputs": [],
   "source": [
    "data_filename = './us-accidents/US_Accidents_March23.csv'"
   ]
  },
  {
   "cell_type": "code",
   "execution_count": null,
   "id": "3679c154",
   "metadata": {},
   "outputs": [],
   "source": [
    " #Data Preparation and cleaning\n",
    "    #Load the file using pandas\n",
    "    #Look at some information about the data\n",
    "    #Fix Missing and Incorrect values"
   ]
  },
  {
   "cell_type": "code",
   "execution_count": null,
   "id": "e000f419",
   "metadata": {},
   "outputs": [],
   "source": [
    "import pandas as pd"
   ]
  },
  {
   "cell_type": "code",
   "execution_count": null,
   "id": "f23faaa1",
   "metadata": {},
   "outputs": [],
   "source": [
    "df = pd.read_csv(data_filename)"
   ]
  },
  {
   "cell_type": "code",
   "execution_count": null,
   "id": "52bbef8a",
   "metadata": {
    "scrolled": true
   },
   "outputs": [],
   "source": [
    "df.head()"
   ]
  },
  {
   "cell_type": "code",
   "execution_count": null,
   "id": "83582abf",
   "metadata": {},
   "outputs": [],
   "source": [
    "df.columns"
   ]
  },
  {
   "cell_type": "code",
   "execution_count": null,
   "id": "5a3dc6fc",
   "metadata": {
    "scrolled": true
   },
   "outputs": [],
   "source": [
    "df.info()"
   ]
  },
  {
   "cell_type": "code",
   "execution_count": null,
   "id": "dd0653c9",
   "metadata": {},
   "outputs": [],
   "source": [
    "df.describe()\n",
    "# Are there more accidents in warmer or colder areas?\n",
    "# Which 5 states has the highest number of accidents? How about per capita?\n",
    "# Why doesn't new_york show in the data? if yes why is the count low\n",
    "#What time of the day are accidents most fresquent in?\n",
    "#Which days of the week have the most accidents?\n",
    "#Which month have the most accidents?\n",
    "#What is the trent of accidents year over year(decreasing/increasing)"
   ]
  },
  {
   "cell_type": "code",
   "execution_count": null,
   "id": "9c14bc56",
   "metadata": {
    "scrolled": true
   },
   "outputs": [],
   "source": [
    "df.isnull().sum().sort_values(ascending=False)"
   ]
  },
  {
   "cell_type": "code",
   "execution_count": null,
   "id": "7b1f0648",
   "metadata": {
    "scrolled": true
   },
   "outputs": [],
   "source": [
    "#viewing misssing values as percentage\n",
    "Missing_Percentages = df.isnull().sum().sort_values(ascending=False) / len(df) * 100\n",
    "Missing_Percentages"
   ]
  },
  {
   "cell_type": "code",
   "execution_count": null,
   "id": "ca0db215",
   "metadata": {},
   "outputs": [],
   "source": [
    "#Visualizing Missing Data\n",
    "Missing_Percentages[Missing_Percentages != 0].sort_values().plot(kind='barh')"
   ]
  },
  {
   "cell_type": "code",
   "execution_count": null,
   "id": "4c9182f9",
   "metadata": {},
   "outputs": [],
   "source": [
    "#Analysis done on the below columns\n",
    "#State\n",
    "#City\n",
    "#Sunrise_Sunset\n",
    "#Severity\n",
    "#Weather_Condition\n",
    "#Visibility(mi)"
   ]
  },
  {
   "cell_type": "code",
   "execution_count": null,
   "id": "fa11eeb0",
   "metadata": {},
   "outputs": [],
   "source": [
    "cities = df.City.unique()\n",
    "len(cities)"
   ]
  },
  {
   "cell_type": "code",
   "execution_count": null,
   "id": "c983d1c4",
   "metadata": {},
   "outputs": [],
   "source": [
    "states = df.State.unique()\n",
    "len(states)"
   ]
  },
  {
   "cell_type": "code",
   "execution_count": null,
   "id": "05ba7442",
   "metadata": {
    "scrolled": true
   },
   "outputs": [],
   "source": [
    "cities_by_accident = df.City.value_counts()\n",
    "cities_by_accident.head(5)"
   ]
  },
  {
   "cell_type": "code",
   "execution_count": null,
   "id": "9f11b639",
   "metadata": {},
   "outputs": [],
   "source": [
    "states_by_accident = df.State.value_counts()\n",
    "states_by_accident.head(5)"
   ]
  },
  {
   "cell_type": "code",
   "execution_count": null,
   "id": "168501fe",
   "metadata": {},
   "outputs": [],
   "source": [
    "cities_by_accident.max() / cities_by_accident.sum() * 100"
   ]
  },
  {
   "cell_type": "code",
   "execution_count": null,
   "id": "1cbd8b5c",
   "metadata": {},
   "outputs": [],
   "source": [
    "states_by_accident.max() / states_by_accident.sum() * 100"
   ]
  },
  {
   "cell_type": "code",
   "execution_count": null,
   "id": "43251071",
   "metadata": {
    "scrolled": true
   },
   "outputs": [],
   "source": [
    "states_by_accident = df.State.value_counts()\n",
    "states_by_accident.head(5)"
   ]
  },
  {
   "cell_type": "code",
   "execution_count": null,
   "id": "02d1315b",
   "metadata": {},
   "outputs": [],
   "source": [
    "'New York' in df.City"
   ]
  },
  {
   "cell_type": "code",
   "execution_count": null,
   "id": "8e6c49c8",
   "metadata": {},
   "outputs": [],
   "source": [
    "cities_by_accident.head(20).plot(kind='barh')"
   ]
  },
  {
   "cell_type": "code",
   "execution_count": null,
   "id": "42e4af11",
   "metadata": {},
   "outputs": [],
   "source": [
    "states_by_accident.head(20).plot(kind='barh')"
   ]
  },
  {
   "cell_type": "code",
   "execution_count": null,
   "id": "476bf3c8",
   "metadata": {},
   "outputs": [],
   "source": [
    "import seaborn as sns\n",
    "import matplotlib.pyplot as plt\n",
    "sns.set_style('darkgrid')"
   ]
  },
  {
   "cell_type": "code",
   "execution_count": null,
   "id": "847dde4a",
   "metadata": {},
   "outputs": [],
   "source": [
    "fig, ax = plt.subplots()\n",
    "sns.histplot(cities_by_accident, ax=ax)  # distplot is deprecate and replaced by histplot\n",
    "ax.set_xlim(0,1000)\n",
    "plt.show()"
   ]
  },
  {
   "cell_type": "code",
   "execution_count": null,
   "id": "9abab61b",
   "metadata": {},
   "outputs": [],
   "source": [
    "high_accident_cities = cities_by_accident[cities_by_accident >= 800]\n",
    "low_accident_cities = cities_by_accident[cities_by_accident < 800]"
   ]
  },
  {
   "cell_type": "code",
   "execution_count": null,
   "id": "ba8fa84b",
   "metadata": {},
   "outputs": [],
   "source": [
    "len(high_accident_cities) / len(cities) * 100"
   ]
  },
  {
   "cell_type": "code",
   "execution_count": null,
   "id": "5f718fc7",
   "metadata": {},
   "outputs": [],
   "source": [
    "len(low_accident_cities) / len(cities) * 100"
   ]
  },
  {
   "cell_type": "code",
   "execution_count": null,
   "id": "14dd7d9e",
   "metadata": {},
   "outputs": [],
   "source": [
    "sns.histplot(high_accident_cities, log_scale=True)"
   ]
  },
  {
   "cell_type": "code",
   "execution_count": null,
   "id": "6670ab54",
   "metadata": {},
   "outputs": [],
   "source": [
    "cities_by_accident[cities_by_accident == 1]"
   ]
  },
  {
   "cell_type": "code",
   "execution_count": null,
   "id": "58a768b2",
   "metadata": {
    "scrolled": true
   },
   "outputs": [],
   "source": [
    "df.dtypes"
   ]
  },
  {
   "cell_type": "code",
   "execution_count": null,
   "id": "ad8c9a1a",
   "metadata": {
    "scrolled": true
   },
   "outputs": [],
   "source": [
    "display(df.iloc[3639775])"
   ]
  },
  {
   "cell_type": "code",
   "execution_count": null,
   "id": "490a55bd",
   "metadata": {},
   "outputs": [],
   "source": [
    "df[['Start_Time1','000']] = df['Start_Time'].str.split(pat='.', expand=True)"
   ]
  },
  {
   "cell_type": "code",
   "execution_count": null,
   "id": "1bc12b66",
   "metadata": {},
   "outputs": [],
   "source": [
    "df.columns"
   ]
  },
  {
   "cell_type": "code",
   "execution_count": null,
   "id": "b6295457",
   "metadata": {
    "scrolled": true
   },
   "outputs": [],
   "source": [
    "pd.to_datetime(df.Start_Time)"
   ]
  },
  {
   "cell_type": "code",
   "execution_count": null,
   "id": "827837f6",
   "metadata": {},
   "outputs": [],
   "source": [
    "pd.to_datetime(df.Start_Time1)"
   ]
  },
  {
   "cell_type": "code",
   "execution_count": null,
   "id": "cddff77a",
   "metadata": {},
   "outputs": [],
   "source": [
    "df.Start_Time = pd.to_datetime(df.Start_Time1)"
   ]
  },
  {
   "cell_type": "code",
   "execution_count": null,
   "id": "467e0104",
   "metadata": {
    "scrolled": true
   },
   "outputs": [],
   "source": [
    "df.dtypes"
   ]
  },
  {
   "cell_type": "code",
   "execution_count": null,
   "id": "e4b6cc73",
   "metadata": {
    "scrolled": true
   },
   "outputs": [],
   "source": [
    "df = df.drop(columns =['Start_Time1', '000'])"
   ]
  },
  {
   "cell_type": "code",
   "execution_count": null,
   "id": "b878ce2f",
   "metadata": {},
   "outputs": [],
   "source": [
    "df.columns"
   ]
  },
  {
   "cell_type": "code",
   "execution_count": null,
   "id": "bc0cdebe",
   "metadata": {},
   "outputs": [],
   "source": [
    "sns.histplot(df.Start_Time.dt.hour, bins=24)"
   ]
  },
  {
   "cell_type": "code",
   "execution_count": null,
   "id": "865c9418",
   "metadata": {},
   "outputs": [],
   "source": [
    "sns.histplot(df.Start_Time.dt.dayofweek, bins=7)"
   ]
  },
  {
   "cell_type": "code",
   "execution_count": null,
   "id": "8d19ccb4",
   "metadata": {},
   "outputs": [],
   "source": [
    "df['Severity'] = df['Severity'].astype(int)"
   ]
  },
  {
   "cell_type": "code",
   "execution_count": null,
   "id": "33217b57",
   "metadata": {},
   "outputs": [],
   "source": [
    "Weekends_Start_Time = df.Start_Time[df.Start_Time.dt.dayofweek == 5 & 6]"
   ]
  },
  {
   "cell_type": "code",
   "execution_count": null,
   "id": "9d4d5ac2",
   "metadata": {},
   "outputs": [],
   "source": [
    "Weekdays_Start_Time = df.Start_Time[df.Start_Time.dt.dayofweek == 0 & 1 & 2 & 3 & 4]"
   ]
  },
  {
   "cell_type": "code",
   "execution_count": null,
   "id": "87a91794",
   "metadata": {},
   "outputs": [],
   "source": [
    "sns.histplot(Weekends_Start_Time.dt.hour, bins=24)"
   ]
  },
  {
   "cell_type": "code",
   "execution_count": null,
   "id": "2c5224c1",
   "metadata": {},
   "outputs": [],
   "source": [
    "sns.histplot(Weekdays_Start_Time.dt.hour, bins=24)"
   ]
  },
  {
   "cell_type": "code",
   "execution_count": null,
   "id": "632ea6bd",
   "metadata": {},
   "outputs": [],
   "source": [
    "sns.histplot(df.Start_Time.dt.month, bins=12)"
   ]
  },
  {
   "cell_type": "code",
   "execution_count": null,
   "id": "5e3273f8",
   "metadata": {},
   "outputs": [],
   "source": [
    "sns.scatterplot(x=df.Start_Lng, y=df.Start_Lat)"
   ]
  },
  {
   "cell_type": "code",
   "execution_count": null,
   "id": "e82e6cb7",
   "metadata": {},
   "outputs": [],
   "source": [
    "pip install folium"
   ]
  },
  {
   "cell_type": "code",
   "execution_count": null,
   "id": "9e416e59",
   "metadata": {},
   "outputs": [],
   "source": [
    "from folium.plugins import HeatMap\n",
    "import folium"
   ]
  },
  {
   "cell_type": "code",
   "execution_count": null,
   "id": "40ba189b",
   "metadata": {},
   "outputs": [],
   "source": [
    "zip(list(df.Start_Lat), list(df.Start_Lng))"
   ]
  },
  {
   "cell_type": "code",
   "execution_count": null,
   "id": "a5d6c4e0",
   "metadata": {},
   "outputs": [],
   "source": [
    "sample_df = df.sample(int(0.5 * len(df)))\n",
    "lat_lon_pairs = list(zip(list(sample_df.Start_Lat), list(sample_df.Start_Lng)))"
   ]
  },
  {
   "cell_type": "code",
   "execution_count": null,
   "id": "33f0baf4",
   "metadata": {},
   "outputs": [],
   "source": [
    "map = folium.Map()\n",
    "HeatMap(lat_lon_pairs).add_to(map)\n",
    "map"
   ]
  },
  {
   "cell_type": "code",
   "execution_count": null,
   "id": "1d39b6d1",
   "metadata": {},
   "outputs": [],
   "source": []
  }
 ],
 "metadata": {
  "kernelspec": {
   "display_name": "Python 3 (ipykernel)",
   "language": "python",
   "name": "python3"
  },
  "language_info": {
   "codemirror_mode": {
    "name": "ipython",
    "version": 3
   },
   "file_extension": ".py",
   "mimetype": "text/x-python",
   "name": "python",
   "nbconvert_exporter": "python",
   "pygments_lexer": "ipython3",
   "version": "3.11.2"
  }
 },
 "nbformat": 4,
 "nbformat_minor": 5
}
